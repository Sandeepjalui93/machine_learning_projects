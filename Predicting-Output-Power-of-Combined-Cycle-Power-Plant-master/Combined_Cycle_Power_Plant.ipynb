{
  "nbformat": 4,
  "nbformat_minor": 0,
  "metadata": {
    "colab": {
      "name": "Combined_Cycle_Power_Plant.ipynb",
      "provenance": []
    },
    "kernelspec": {
      "name": "python3",
      "display_name": "Python 3"
    }
  },
  "cells": [
    {
      "cell_type": "code",
      "metadata": {
        "id": "FIiS9r1-Jx22",
        "colab_type": "code",
        "colab": {}
      },
      "source": [
        "import numpy as np\n",
        "import pandas as pd\n",
        "import tensorflow as tf     #Import Libraries"
      ],
      "execution_count": 23,
      "outputs": []
    },
    {
      "cell_type": "code",
      "metadata": {
        "id": "529h9uRwKco7",
        "colab_type": "code",
        "colab": {
          "base_uri": "https://localhost:8080/",
          "height": 35
        },
        "outputId": "ba9461ef-24e6-406c-b1a6-7eb860fc5fa0"
      },
      "source": [
        "tf.__version__"
      ],
      "execution_count": 24,
      "outputs": [
        {
          "output_type": "execute_result",
          "data": {
            "application/vnd.google.colaboratory.intrinsic": {
              "type": "string"
            },
            "text/plain": [
              "'2.2.0'"
            ]
          },
          "metadata": {
            "tags": []
          },
          "execution_count": 24
        }
      ]
    },
    {
      "cell_type": "code",
      "metadata": {
        "id": "8NJ94qgVKm-X",
        "colab_type": "code",
        "colab": {}
      },
      "source": [
        "from google.colab import drive "
      ],
      "execution_count": 25,
      "outputs": []
    },
    {
      "cell_type": "code",
      "metadata": {
        "id": "_0YtBhW-LYZW",
        "colab_type": "code",
        "colab": {
          "base_uri": "https://localhost:8080/",
          "height": 34
        },
        "outputId": "200decac-0b81-4090-d6a7-86d86e7c3365"
      },
      "source": [
        "drive.mount('/content/drive')"
      ],
      "execution_count": 26,
      "outputs": [
        {
          "output_type": "stream",
          "text": [
            "Drive already mounted at /content/drive; to attempt to forcibly remount, call drive.mount(\"/content/drive\", force_remount=True).\n"
          ],
          "name": "stdout"
        }
      ]
    },
    {
      "cell_type": "code",
      "metadata": {
        "id": "yfYCGREmMEpD",
        "colab_type": "code",
        "colab": {}
      },
      "source": [
        "dataset = pd.read_excel('/content/drive/My Drive/ANN_Regression/Folds5x2_pp.xlsx')     #Load dataset"
      ],
      "execution_count": 27,
      "outputs": []
    },
    {
      "cell_type": "code",
      "metadata": {
        "id": "jXTIaooeMiUx",
        "colab_type": "code",
        "colab": {
          "base_uri": "https://localhost:8080/",
          "height": 34
        },
        "outputId": "889a9f61-e057-4437-d155-26fb1ad49f81"
      },
      "source": [
        "dataset.shape"
      ],
      "execution_count": 28,
      "outputs": [
        {
          "output_type": "execute_result",
          "data": {
            "text/plain": [
              "(9568, 5)"
            ]
          },
          "metadata": {
            "tags": []
          },
          "execution_count": 28
        }
      ]
    },
    {
      "cell_type": "code",
      "metadata": {
        "id": "-DZ5vlcrMnqq",
        "colab_type": "code",
        "colab": {
          "base_uri": "https://localhost:8080/",
          "height": 359
        },
        "outputId": "e6c791d7-4550-419a-fa02-d8e689df937e"
      },
      "source": [
        "dataset.head(10)"
      ],
      "execution_count": 29,
      "outputs": [
        {
          "output_type": "execute_result",
          "data": {
            "text/html": [
              "<div>\n",
              "<style scoped>\n",
              "    .dataframe tbody tr th:only-of-type {\n",
              "        vertical-align: middle;\n",
              "    }\n",
              "\n",
              "    .dataframe tbody tr th {\n",
              "        vertical-align: top;\n",
              "    }\n",
              "\n",
              "    .dataframe thead th {\n",
              "        text-align: right;\n",
              "    }\n",
              "</style>\n",
              "<table border=\"1\" class=\"dataframe\">\n",
              "  <thead>\n",
              "    <tr style=\"text-align: right;\">\n",
              "      <th></th>\n",
              "      <th>AT</th>\n",
              "      <th>V</th>\n",
              "      <th>AP</th>\n",
              "      <th>RH</th>\n",
              "      <th>PE</th>\n",
              "    </tr>\n",
              "  </thead>\n",
              "  <tbody>\n",
              "    <tr>\n",
              "      <th>0</th>\n",
              "      <td>14.96</td>\n",
              "      <td>41.76</td>\n",
              "      <td>1024.07</td>\n",
              "      <td>73.17</td>\n",
              "      <td>463.26</td>\n",
              "    </tr>\n",
              "    <tr>\n",
              "      <th>1</th>\n",
              "      <td>25.18</td>\n",
              "      <td>62.96</td>\n",
              "      <td>1020.04</td>\n",
              "      <td>59.08</td>\n",
              "      <td>444.37</td>\n",
              "    </tr>\n",
              "    <tr>\n",
              "      <th>2</th>\n",
              "      <td>5.11</td>\n",
              "      <td>39.40</td>\n",
              "      <td>1012.16</td>\n",
              "      <td>92.14</td>\n",
              "      <td>488.56</td>\n",
              "    </tr>\n",
              "    <tr>\n",
              "      <th>3</th>\n",
              "      <td>20.86</td>\n",
              "      <td>57.32</td>\n",
              "      <td>1010.24</td>\n",
              "      <td>76.64</td>\n",
              "      <td>446.48</td>\n",
              "    </tr>\n",
              "    <tr>\n",
              "      <th>4</th>\n",
              "      <td>10.82</td>\n",
              "      <td>37.50</td>\n",
              "      <td>1009.23</td>\n",
              "      <td>96.62</td>\n",
              "      <td>473.90</td>\n",
              "    </tr>\n",
              "    <tr>\n",
              "      <th>5</th>\n",
              "      <td>26.27</td>\n",
              "      <td>59.44</td>\n",
              "      <td>1012.23</td>\n",
              "      <td>58.77</td>\n",
              "      <td>443.67</td>\n",
              "    </tr>\n",
              "    <tr>\n",
              "      <th>6</th>\n",
              "      <td>15.89</td>\n",
              "      <td>43.96</td>\n",
              "      <td>1014.02</td>\n",
              "      <td>75.24</td>\n",
              "      <td>467.35</td>\n",
              "    </tr>\n",
              "    <tr>\n",
              "      <th>7</th>\n",
              "      <td>9.48</td>\n",
              "      <td>44.71</td>\n",
              "      <td>1019.12</td>\n",
              "      <td>66.43</td>\n",
              "      <td>478.42</td>\n",
              "    </tr>\n",
              "    <tr>\n",
              "      <th>8</th>\n",
              "      <td>14.64</td>\n",
              "      <td>45.00</td>\n",
              "      <td>1021.78</td>\n",
              "      <td>41.25</td>\n",
              "      <td>475.98</td>\n",
              "    </tr>\n",
              "    <tr>\n",
              "      <th>9</th>\n",
              "      <td>11.74</td>\n",
              "      <td>43.56</td>\n",
              "      <td>1015.14</td>\n",
              "      <td>70.72</td>\n",
              "      <td>477.50</td>\n",
              "    </tr>\n",
              "  </tbody>\n",
              "</table>\n",
              "</div>"
            ],
            "text/plain": [
              "      AT      V       AP     RH      PE\n",
              "0  14.96  41.76  1024.07  73.17  463.26\n",
              "1  25.18  62.96  1020.04  59.08  444.37\n",
              "2   5.11  39.40  1012.16  92.14  488.56\n",
              "3  20.86  57.32  1010.24  76.64  446.48\n",
              "4  10.82  37.50  1009.23  96.62  473.90\n",
              "5  26.27  59.44  1012.23  58.77  443.67\n",
              "6  15.89  43.96  1014.02  75.24  467.35\n",
              "7   9.48  44.71  1019.12  66.43  478.42\n",
              "8  14.64  45.00  1021.78  41.25  475.98\n",
              "9  11.74  43.56  1015.14  70.72  477.50"
            ]
          },
          "metadata": {
            "tags": []
          },
          "execution_count": 29
        }
      ]
    },
    {
      "cell_type": "code",
      "metadata": {
        "id": "Z66JNKJFMug8",
        "colab_type": "code",
        "colab": {}
      },
      "source": [
        "X = dataset.iloc[:, :-1].values\n",
        "Y = dataset.iloc[:, -1].values                 # Feature Selection"
      ],
      "execution_count": 30,
      "outputs": []
    },
    {
      "cell_type": "code",
      "metadata": {
        "id": "2wqZaOIsNJFY",
        "colab_type": "code",
        "colab": {
          "base_uri": "https://localhost:8080/",
          "height": 170
        },
        "outputId": "932c713f-fcd6-49c7-d575-ca4d27ff1a89"
      },
      "source": [
        "print(X), print(Y)"
      ],
      "execution_count": 31,
      "outputs": [
        {
          "output_type": "stream",
          "text": [
            "[[  14.96   41.76 1024.07   73.17]\n",
            " [  25.18   62.96 1020.04   59.08]\n",
            " [   5.11   39.4  1012.16   92.14]\n",
            " ...\n",
            " [  31.32   74.33 1012.92   36.48]\n",
            " [  24.48   69.45 1013.86   62.39]\n",
            " [  21.6    62.52 1017.23   67.87]]\n",
            "[463.26 444.37 488.56 ... 429.57 435.74 453.28]\n"
          ],
          "name": "stdout"
        },
        {
          "output_type": "execute_result",
          "data": {
            "text/plain": [
              "(None, None)"
            ]
          },
          "metadata": {
            "tags": []
          },
          "execution_count": 31
        }
      ]
    },
    {
      "cell_type": "code",
      "metadata": {
        "id": "iC9ikQ9tPLJG",
        "colab_type": "code",
        "colab": {}
      },
      "source": [
        "from sklearn.model_selection import train_test_split\n",
        "X_train, X_test, Y_train, Y_test = train_test_split (X, Y, test_size = 0.2, random_state = 0)                #Splitting X and Y"
      ],
      "execution_count": 32,
      "outputs": []
    },
    {
      "cell_type": "code",
      "metadata": {
        "id": "j0IuAwIwPqXD",
        "colab_type": "code",
        "colab": {}
      },
      "source": [
        "ann = tf.keras.models.Sequential()                      "
      ],
      "execution_count": 33,
      "outputs": []
    },
    {
      "cell_type": "code",
      "metadata": {
        "id": "ZngUj7emRbn3",
        "colab_type": "code",
        "colab": {}
      },
      "source": [
        "ann.add(tf.keras.layers.Dense(units = 6, activation = 'relu'))      #First Hidden layer"
      ],
      "execution_count": 34,
      "outputs": []
    },
    {
      "cell_type": "code",
      "metadata": {
        "id": "ZIM2uq5YSjsg",
        "colab_type": "code",
        "colab": {}
      },
      "source": [
        "ann.add(tf.keras.layers.Dense(units = 6, activation = 'relu'))      #Second Hidden layer"
      ],
      "execution_count": 35,
      "outputs": []
    },
    {
      "cell_type": "code",
      "metadata": {
        "id": "92nxCGc2S8eZ",
        "colab_type": "code",
        "colab": {}
      },
      "source": [
        "ann.add(tf.keras.layers.Dense(units = 1))            #Output layer"
      ],
      "execution_count": 36,
      "outputs": []
    },
    {
      "cell_type": "code",
      "metadata": {
        "id": "SeSvTr5hTcUp",
        "colab_type": "code",
        "colab": {}
      },
      "source": [
        "ann.compile(optimizer = 'adam', loss = 'mean_squared_error')      #Compiling ANN"
      ],
      "execution_count": 37,
      "outputs": []
    },
    {
      "cell_type": "code",
      "metadata": {
        "id": "A0TILfmkUpME",
        "colab_type": "code",
        "colab": {
          "base_uri": "https://localhost:8080/",
          "height": 1000
        },
        "outputId": "8855076e-6902-4926-837c-90631c967298"
      },
      "source": [
        "ann.fit(X_train, Y_train, batch_size = 32, epochs = 100)         #Fitting the ANN model"
      ],
      "execution_count": 38,
      "outputs": [
        {
          "output_type": "stream",
          "text": [
            "Epoch 1/100\n",
            "240/240 [==============================] - 0s 1ms/step - loss: 92903.9453\n",
            "Epoch 2/100\n",
            "240/240 [==============================] - 0s 1ms/step - loss: 724.0522\n",
            "Epoch 3/100\n",
            "240/240 [==============================] - 0s 1ms/step - loss: 252.1810\n",
            "Epoch 4/100\n",
            "240/240 [==============================] - 0s 1ms/step - loss: 246.8547\n",
            "Epoch 5/100\n",
            "240/240 [==============================] - 0s 1ms/step - loss: 240.3202\n",
            "Epoch 6/100\n",
            "240/240 [==============================] - 0s 1ms/step - loss: 232.9297\n",
            "Epoch 7/100\n",
            "240/240 [==============================] - 0s 1ms/step - loss: 224.5882\n",
            "Epoch 8/100\n",
            "240/240 [==============================] - 0s 1ms/step - loss: 215.3517\n",
            "Epoch 9/100\n",
            "240/240 [==============================] - 0s 1ms/step - loss: 205.1364\n",
            "Epoch 10/100\n",
            "240/240 [==============================] - 0s 1ms/step - loss: 194.3420\n",
            "Epoch 11/100\n",
            "240/240 [==============================] - 0s 1ms/step - loss: 183.1286\n",
            "Epoch 12/100\n",
            "240/240 [==============================] - 0s 1ms/step - loss: 171.1796\n",
            "Epoch 13/100\n",
            "240/240 [==============================] - 0s 1ms/step - loss: 159.3045\n",
            "Epoch 14/100\n",
            "240/240 [==============================] - 0s 1ms/step - loss: 147.2649\n",
            "Epoch 15/100\n",
            "240/240 [==============================] - 0s 1ms/step - loss: 135.1741\n",
            "Epoch 16/100\n",
            "240/240 [==============================] - 0s 1ms/step - loss: 123.5287\n",
            "Epoch 17/100\n",
            "240/240 [==============================] - 0s 1ms/step - loss: 111.6348\n",
            "Epoch 18/100\n",
            "240/240 [==============================] - 0s 1ms/step - loss: 101.2528\n",
            "Epoch 19/100\n",
            "240/240 [==============================] - 0s 1ms/step - loss: 91.0578\n",
            "Epoch 20/100\n",
            "240/240 [==============================] - 0s 1ms/step - loss: 82.0529\n",
            "Epoch 21/100\n",
            "240/240 [==============================] - 0s 1ms/step - loss: 74.0777\n",
            "Epoch 22/100\n",
            "240/240 [==============================] - 0s 1ms/step - loss: 67.0107\n",
            "Epoch 23/100\n",
            "240/240 [==============================] - 0s 1ms/step - loss: 61.3905\n",
            "Epoch 24/100\n",
            "240/240 [==============================] - 0s 1ms/step - loss: 56.1366\n",
            "Epoch 25/100\n",
            "240/240 [==============================] - 0s 1ms/step - loss: 51.7672\n",
            "Epoch 26/100\n",
            "240/240 [==============================] - 0s 1ms/step - loss: 48.1096\n",
            "Epoch 27/100\n",
            "240/240 [==============================] - 0s 1ms/step - loss: 45.4682\n",
            "Epoch 28/100\n",
            "240/240 [==============================] - 0s 1ms/step - loss: 42.9408\n",
            "Epoch 29/100\n",
            "240/240 [==============================] - 0s 1ms/step - loss: 41.1193\n",
            "Epoch 30/100\n",
            "240/240 [==============================] - 0s 1ms/step - loss: 39.2786\n",
            "Epoch 31/100\n",
            "240/240 [==============================] - 0s 1ms/step - loss: 37.6556\n",
            "Epoch 32/100\n",
            "240/240 [==============================] - 0s 1ms/step - loss: 36.6456\n",
            "Epoch 33/100\n",
            "240/240 [==============================] - 0s 1ms/step - loss: 35.2299\n",
            "Epoch 34/100\n",
            "240/240 [==============================] - 0s 1ms/step - loss: 34.8369\n",
            "Epoch 35/100\n",
            "240/240 [==============================] - 0s 1ms/step - loss: 34.0801\n",
            "Epoch 36/100\n",
            "240/240 [==============================] - 0s 1ms/step - loss: 33.4787\n",
            "Epoch 37/100\n",
            "240/240 [==============================] - 0s 1ms/step - loss: 32.6258\n",
            "Epoch 38/100\n",
            "240/240 [==============================] - 0s 1ms/step - loss: 32.0878\n",
            "Epoch 39/100\n",
            "240/240 [==============================] - 0s 1ms/step - loss: 32.5124\n",
            "Epoch 40/100\n",
            "240/240 [==============================] - 0s 1ms/step - loss: 31.2906\n",
            "Epoch 41/100\n",
            "240/240 [==============================] - 0s 1ms/step - loss: 30.6454\n",
            "Epoch 42/100\n",
            "240/240 [==============================] - 0s 1ms/step - loss: 30.5377\n",
            "Epoch 43/100\n",
            "240/240 [==============================] - 0s 1ms/step - loss: 30.3445\n",
            "Epoch 44/100\n",
            "240/240 [==============================] - 0s 1ms/step - loss: 29.7783\n",
            "Epoch 45/100\n",
            "240/240 [==============================] - 0s 1ms/step - loss: 29.3933\n",
            "Epoch 46/100\n",
            "240/240 [==============================] - 0s 1ms/step - loss: 28.7431\n",
            "Epoch 47/100\n",
            "240/240 [==============================] - 0s 990us/step - loss: 28.5849\n",
            "Epoch 48/100\n",
            "240/240 [==============================] - 0s 1ms/step - loss: 28.6705\n",
            "Epoch 49/100\n",
            "240/240 [==============================] - 0s 1ms/step - loss: 28.5920\n",
            "Epoch 50/100\n",
            "240/240 [==============================] - 0s 1ms/step - loss: 28.6650\n",
            "Epoch 51/100\n",
            "240/240 [==============================] - 0s 1ms/step - loss: 28.3062\n",
            "Epoch 52/100\n",
            "240/240 [==============================] - 0s 1ms/step - loss: 27.9748\n",
            "Epoch 53/100\n",
            "240/240 [==============================] - 0s 1ms/step - loss: 27.8264\n",
            "Epoch 54/100\n",
            "240/240 [==============================] - 0s 1ms/step - loss: 27.4745\n",
            "Epoch 55/100\n",
            "240/240 [==============================] - 0s 1ms/step - loss: 27.6621\n",
            "Epoch 56/100\n",
            "240/240 [==============================] - 0s 1ms/step - loss: 27.2493\n",
            "Epoch 57/100\n",
            "240/240 [==============================] - 0s 1ms/step - loss: 27.1701\n",
            "Epoch 58/100\n",
            "240/240 [==============================] - 0s 1ms/step - loss: 26.9942\n",
            "Epoch 59/100\n",
            "240/240 [==============================] - 0s 1ms/step - loss: 26.9389\n",
            "Epoch 60/100\n",
            "240/240 [==============================] - 0s 1ms/step - loss: 27.0485\n",
            "Epoch 61/100\n",
            "240/240 [==============================] - 0s 1ms/step - loss: 27.6485\n",
            "Epoch 62/100\n",
            "240/240 [==============================] - 0s 1ms/step - loss: 27.1131\n",
            "Epoch 63/100\n",
            "240/240 [==============================] - 0s 1ms/step - loss: 26.7652\n",
            "Epoch 64/100\n",
            "240/240 [==============================] - 0s 1ms/step - loss: 27.1659\n",
            "Epoch 65/100\n",
            "240/240 [==============================] - 0s 1ms/step - loss: 27.4427\n",
            "Epoch 66/100\n",
            "240/240 [==============================] - 0s 1ms/step - loss: 26.7471\n",
            "Epoch 67/100\n",
            "240/240 [==============================] - 0s 1ms/step - loss: 27.1337\n",
            "Epoch 68/100\n",
            "240/240 [==============================] - 0s 1ms/step - loss: 27.1742\n",
            "Epoch 69/100\n",
            "240/240 [==============================] - 0s 1ms/step - loss: 26.5079\n",
            "Epoch 70/100\n",
            "240/240 [==============================] - 0s 1ms/step - loss: 26.6773\n",
            "Epoch 71/100\n",
            "240/240 [==============================] - 0s 1ms/step - loss: 26.8874\n",
            "Epoch 72/100\n",
            "240/240 [==============================] - 0s 1ms/step - loss: 26.6629\n",
            "Epoch 73/100\n",
            "240/240 [==============================] - 0s 1ms/step - loss: 26.5409\n",
            "Epoch 74/100\n",
            "240/240 [==============================] - 0s 1ms/step - loss: 26.6130\n",
            "Epoch 75/100\n",
            "240/240 [==============================] - 0s 1ms/step - loss: 26.7220\n",
            "Epoch 76/100\n",
            "240/240 [==============================] - 0s 1ms/step - loss: 26.5638\n",
            "Epoch 77/100\n",
            "240/240 [==============================] - 0s 1ms/step - loss: 26.3990\n",
            "Epoch 78/100\n",
            "240/240 [==============================] - 0s 1ms/step - loss: 27.0487\n",
            "Epoch 79/100\n",
            "240/240 [==============================] - 0s 1ms/step - loss: 26.4189\n",
            "Epoch 80/100\n",
            "240/240 [==============================] - 0s 1ms/step - loss: 26.6377\n",
            "Epoch 81/100\n",
            "240/240 [==============================] - 0s 1ms/step - loss: 27.1422\n",
            "Epoch 82/100\n",
            "240/240 [==============================] - 0s 1ms/step - loss: 26.9286\n",
            "Epoch 83/100\n",
            "240/240 [==============================] - 0s 1ms/step - loss: 26.4395\n",
            "Epoch 84/100\n",
            "240/240 [==============================] - 0s 1ms/step - loss: 26.5365\n",
            "Epoch 85/100\n",
            "240/240 [==============================] - 0s 1ms/step - loss: 26.3195\n",
            "Epoch 86/100\n",
            "240/240 [==============================] - 0s 1ms/step - loss: 26.5264\n",
            "Epoch 87/100\n",
            "240/240 [==============================] - 0s 1ms/step - loss: 26.7562\n",
            "Epoch 88/100\n",
            "240/240 [==============================] - 0s 1ms/step - loss: 26.9210\n",
            "Epoch 89/100\n",
            "240/240 [==============================] - 0s 1ms/step - loss: 26.6296\n",
            "Epoch 90/100\n",
            "240/240 [==============================] - 0s 1ms/step - loss: 26.7365\n",
            "Epoch 91/100\n",
            "240/240 [==============================] - 0s 1ms/step - loss: 26.5721\n",
            "Epoch 92/100\n",
            "240/240 [==============================] - 0s 1ms/step - loss: 26.5586\n",
            "Epoch 93/100\n",
            "240/240 [==============================] - 0s 1ms/step - loss: 26.5503\n",
            "Epoch 94/100\n",
            "240/240 [==============================] - 0s 1ms/step - loss: 26.7542\n",
            "Epoch 95/100\n",
            "240/240 [==============================] - 0s 1ms/step - loss: 26.5022\n",
            "Epoch 96/100\n",
            "240/240 [==============================] - 0s 1ms/step - loss: 26.5754\n",
            "Epoch 97/100\n",
            "240/240 [==============================] - 0s 1ms/step - loss: 26.5942\n",
            "Epoch 98/100\n",
            "240/240 [==============================] - 0s 1ms/step - loss: 26.4425\n",
            "Epoch 99/100\n",
            "240/240 [==============================] - 0s 1ms/step - loss: 26.9406\n",
            "Epoch 100/100\n",
            "240/240 [==============================] - 0s 1ms/step - loss: 27.1330\n"
          ],
          "name": "stdout"
        },
        {
          "output_type": "execute_result",
          "data": {
            "text/plain": [
              "<tensorflow.python.keras.callbacks.History at 0x7f510fb2f9e8>"
            ]
          },
          "metadata": {
            "tags": []
          },
          "execution_count": 38
        }
      ]
    },
    {
      "cell_type": "code",
      "metadata": {
        "id": "Py7IzMahWzKW",
        "colab_type": "code",
        "colab": {}
      },
      "source": [
        "Y_pred_ann = ann.predict(X_test)      #Predicting output from ANN model"
      ],
      "execution_count": 52,
      "outputs": []
    },
    {
      "cell_type": "code",
      "metadata": {
        "id": "NSUCdF8OXPlZ",
        "colab_type": "code",
        "colab": {
          "base_uri": "https://localhost:8080/",
          "height": 136
        },
        "outputId": "88cce113-81ef-461a-89a5-69c27b2dd266"
      },
      "source": [
        "np.set_printoptions(precision = 2)\n",
        "print(np.concatenate((Y_pred.reshape(len(Y_pred_ann),1), Y_test.reshape(len(Y_test),1)), 1))         #Comparing Y_test and predicted value from ANN"
      ],
      "execution_count": 40,
      "outputs": [
        {
          "output_type": "stream",
          "text": [
            "[[432.67 431.23]\n",
            " [463.76 460.01]\n",
            " [467.28 461.14]\n",
            " ...\n",
            " [474.46 473.26]\n",
            " [441.34 438.  ]\n",
            " [460.5  463.28]]\n"
          ],
          "name": "stdout"
        }
      ]
    },
    {
      "cell_type": "code",
      "metadata": {
        "id": "b6Br7ghRjAR5",
        "colab_type": "code",
        "colab": {
          "base_uri": "https://localhost:8080/",
          "height": 68
        },
        "outputId": "2cabeecc-7dc6-48df-bc6b-73251b06a1c5"
      },
      "source": [
        "from sklearn import metrics\n",
        "print('Mean Absolute Error:', metrics.mean_absolute_error(Y_test, Y_pred_ann))\n",
        "print('Mean Squared Error:', metrics.mean_squared_error(Y_test, Y_pred_ann))\n",
        "print('Root Mean Squared Error:', np.sqrt(metrics.mean_squared_error(Y_test, Y_pred_ann)))         #Calculating scores and error from ANN model"
      ],
      "execution_count": 41,
      "outputs": [
        {
          "output_type": "stream",
          "text": [
            "Mean Absolute Error: 4.150552607330035\n",
            "Mean Squared Error: 26.521354774940672\n",
            "Root Mean Squared Error: 5.149888811900765\n"
          ],
          "name": "stdout"
        }
      ]
    },
    {
      "cell_type": "code",
      "metadata": {
        "id": "55Pooae4oUKx",
        "colab_type": "code",
        "colab": {
          "base_uri": "https://localhost:8080/",
          "height": 282
        },
        "outputId": "db624a23-ee3b-4606-e99c-188fbcec2d8a"
      },
      "source": [
        "import seaborn as sns\n",
        "ax1 = sns.distplot(Y_test, hist=False, color=\"r\", label=\"Actual Value\")\n",
        "sns.distplot(Y_pred_ann, hist=False, color=\"b\", label=\"Fitted Values\" , ax=ax1)      #Visualizing by graph of ANN model"
      ],
      "execution_count": 53,
      "outputs": [
        {
          "output_type": "execute_result",
          "data": {
            "text/plain": [
              "<matplotlib.axes._subplots.AxesSubplot at 0x7f5121ec25f8>"
            ]
          },
          "metadata": {
            "tags": []
          },
          "execution_count": 53
        },
        {
          "output_type": "display_data",
          "data": {
            "image/png": "[encoded data removed]",
            "text/plain": [
              "<Figure size 432x288 with 1 Axes>"
            ]
          },
          "metadata": {
            "tags": [],
            "needs_background": "light"
          }
        }
      ]
    },
    {
      "cell_type": "code",
      "metadata": {
        "id": "r6uLsUKklxw4",
        "colab_type": "code",
        "colab": {
          "base_uri": "https://localhost:8080/",
          "height": 34
        },
        "outputId": "39bdca87-85b6-4d43-922d-35670f7bc63b"
      },
      "source": [
        "from sklearn.linear_model import LinearRegression\n",
        "lin_reg = LinearRegression()\n",
        "lin_reg.fit(X_train, Y_train)               #Linear regression Model"
      ],
      "execution_count": 46,
      "outputs": [
        {
          "output_type": "execute_result",
          "data": {
            "text/plain": [
              "LinearRegression(copy_X=True, fit_intercept=True, n_jobs=None, normalize=False)"
            ]
          },
          "metadata": {
            "tags": []
          },
          "execution_count": 46
        }
      ]
    },
    {
      "cell_type": "code",
      "metadata": {
        "id": "OZEvPARymJ2E",
        "colab_type": "code",
        "colab": {}
      },
      "source": [
        "Y_pred_reg = lin_reg.predict(X_test)     #Predicting from linear regression model"
      ],
      "execution_count": 48,
      "outputs": []
    },
    {
      "cell_type": "code",
      "metadata": {
        "id": "Sckq3DmamTom",
        "colab_type": "code",
        "colab": {
          "base_uri": "https://localhost:8080/",
          "height": 68
        },
        "outputId": "bc47382f-252e-4dcd-e880-05998a49a19c"
      },
      "source": [
        "from sklearn import metrics\n",
        "print('Mean Absolute Error:', metrics.mean_absolute_error(Y_test, Y_pred_reg))\n",
        "print('Mean Squared Error:', metrics.mean_squared_error(Y_test, Y_pred_reg))\n",
        "print('Root Mean Squared Error:', np.sqrt(metrics.mean_squared_error(Y_test, Y_pred_reg)))        #Calculating scores and error from linear regression model    "
      ],
      "execution_count": 49,
      "outputs": [
        {
          "output_type": "stream",
          "text": [
            "Mean Absolute Error: 3.5665646552038255\n",
            "Mean Squared Error: 19.733699303497648\n",
            "Root Mean Squared Error: 4.442262858442491\n"
          ],
          "name": "stdout"
        }
      ]
    },
    {
      "cell_type": "code",
      "metadata": {
        "id": "8uLW0c4PomWC",
        "colab_type": "code",
        "colab": {
          "base_uri": "https://localhost:8080/",
          "height": 282
        },
        "outputId": "74ed3215-7cda-4dc1-907c-91cb2c1cf231"
      },
      "source": [
        "import seaborn as sns\n",
        "ax1 = sns.distplot(Y_test, hist=False, color=\"r\", label=\"Actual Value\")\n",
        "sns.distplot(Y_pred_reg, hist=False, color=\"b\", label=\"Fitted Values\" , ax=ax1)       #Visualizing by graph of ANN model"
      ],
      "execution_count": 54,
      "outputs": [
        {
          "output_type": "execute_result",
          "data": {
            "text/plain": [
              "<matplotlib.axes._subplots.AxesSubplot at 0x7f5121e3a1d0>"
            ]
          },
          "metadata": {
            "tags": []
          },
          "execution_count": 54
        },
        {
          "output_type": "display_data",
          "data": {
            "image/png": "[encoded data removed]",
            "text/plain": [
              "<Figure size 432x288 with 1 Axes>"
            ]
          },
          "metadata": {
            "tags": [],
            "needs_background": "light"
          }
        }
      ]
    },
    {
      "cell_type": "code",
      "metadata": {
        "id": "XkfSyNxpmgsm",
        "colab_type": "code",
        "colab": {}
      },
      "source": [
        "import pickle\n",
        "pickle.dump(lin_reg, open('model.pkl','wb'))\n",
        "model = pickle.load(open('model.pkl','rb'))               #creating pickle file"
      ],
      "execution_count": 50,
      "outputs": []
    }
  ]
}